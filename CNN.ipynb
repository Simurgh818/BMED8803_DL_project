{
 "cells": [
  {
   "cell_type": "markdown",
   "id": "2fdc0796-8b23-4080-ac56-b002939a50a4",
   "metadata": {},
   "source": [
    "# This notebook uses a Convolutional Neural Net (CNN) to predict Grid Cell alignment in real time using VR trajectory as labels."
   ]
  },
  {
   "cell_type": "code",
   "execution_count": 19,
   "id": "ae29d163-982d-4602-97ae-7f87b1839b34",
   "metadata": {},
   "outputs": [],
   "source": [
    "import numpy as np\n",
    "import matplotlib\n",
    "from matplotlib import pyplot as plt\n",
    "import seaborn as sns\n",
    "import pandas as pd\n",
    "import os\n",
    "import glob"
   ]
  },
  {
   "cell_type": "code",
   "execution_count": 3,
   "id": "76518236-55eb-40c7-9589-71378791f183",
   "metadata": {},
   "outputs": [],
   "source": [
    "import nibabel as nib\n",
    "import torch\n",
    "import torch.nn as nn\n",
    "import torch.optim as optim\n",
    "from torch.utils.data import Dataset, DataLoader\n",
    "from sklearn.model_selection import KFold, train_test_split"
   ]
  },
  {
   "cell_type": "markdown",
   "id": "e89ce7c9-f015-4db1-92d4-468679f66be7",
   "metadata": {},
   "source": [
    "## 1. Load and preprocess the input NIFTI images"
   ]
  },
  {
   "cell_type": "code",
   "execution_count": 20,
   "id": "e63d6f5d-57b0-4755-b5b0-0f647597c27f",
   "metadata": {},
   "outputs": [],
   "source": [
    "# Set paths and parameters\n",
    "data_dir = r'C:\\Users\\sdabiri\\OneDrive - Georgia Institute of Technology\\BMED 8803 - Stat ML for Neural data\\Project\\preprocessed\\s05'\n",
    "behavioral_dir = r'C:\\Users\\sdabiri\\OneDrive - Georgia Institute of Technology\\BMED 8803 - Stat ML for Neural data\\Project\\Small_Dataset\\s05\\BehavioralData_s05'\n",
    "time_interval = 1.5  # Time interval between images in seconds\n",
    "\n",
    "# Custom Dataset for loading NIFTI images and labels\n",
    "class BrainDataset(Dataset):\n",
    "    def __init__(self, run_dirs, behavioral_dir, time_interval):\n",
    "        self.images = []\n",
    "        self.labels = []\n",
    "\n",
    "        # Loop through each run directory\n",
    "        for run_dir in run_dirs:\n",
    "            # Load NIFTI images\n",
    "            nii_files = sorted(os.listdir(os.path.join(run_dir, 'masked_outputs')))\n",
    "            run_images = [nib.load(os.path.join(run_dir, 'masked_outputs', f)).get_fdata() for f in nii_files]\n",
    "\n",
    "            # Load and process behavioral data\n",
    "            for run_dir in run_dirs:\n",
    "                # Extract the run identifier (e.g., 'run001')\n",
    "                run_base = os.path.basename(run_dir).split('_')[0]\n",
    "                \n",
    "                # Use glob to search for files containing the run identifier in the behavioral directory\n",
    "                search_pattern = os.path.join(behavioral_dir, f\"*{run_base}*.tsv\")\n",
    "                behavioral_files = glob.glob(search_pattern)\n",
    "                \n",
    "                # Check if any matching files were found\n",
    "                if behavioral_files:\n",
    "                    behavioral_file = behavioral_files[0]  # Assuming there's only one matching file per run\n",
    "                    run_behavioral_data = pd.read_csv(behavioral_file, sep='\\t')\n",
    "                    # Continue processing the loaded data...\n",
    "                    print(f\"Loaded behavioral data from: {behavioral_file}\")\n",
    "                else:\n",
    "                    print(f\"No behavioral data file found for {run_base}. Searched pattern: {search_pattern}\")\n",
    "        \n",
    "            # Extract orientation values and synchronize with images\n",
    "            orientations = run_behavioral_data['Orientation'].values\n",
    "            timestamps = run_behavioral_data['Time'].values\n",
    "            time_points = np.arange(0, time_interval * len(run_images), time_interval)\n",
    "            labels = np.interp(time_points, timestamps, orientations)\n",
    "\n",
    "            # Append images and labels\n",
    "            self.images.extend(run_images)\n",
    "            self.labels.extend(labels)\n",
    "\n",
    "    def __len__(self):\n",
    "        return len(self.images)\n",
    "\n",
    "    def __getitem__(self, idx):\n",
    "        image = torch.tensor(self.images[idx], dtype=torch.float32).unsqueeze(0)  # Add channel dimension\n",
    "        label = torch.tensor(self.labels[idx], dtype=torch.float32)\n",
    "        return image, label"
   ]
  },
  {
   "cell_type": "code",
   "execution_count": 21,
   "id": "0756c4b0-b063-490f-8ed9-7bf47792d2ce",
   "metadata": {},
   "outputs": [
    {
     "name": "stdout",
     "output_type": "stream",
     "text": [
      "run001\n"
     ]
    }
   ],
   "source": [
    "run_name = 'run001_8'\n",
    "run_base = run_name.split('_')[0]  # Splits at '_' and takes the first part\n",
    "print(run_base)\n"
   ]
  },
  {
   "cell_type": "code",
   "execution_count": 22,
   "id": "2bd1d4d4-df4e-404c-88f7-880f4bf0a7ac",
   "metadata": {},
   "outputs": [],
   "source": [
    "# CNN Model Definition\n",
    "class GridCellCNN(nn.Module):\n",
    "    def __init__(self):\n",
    "        super(GridCellCNN, self).__init__()\n",
    "        self.conv1 = nn.Conv3d(1, 32, kernel_size=3, stride=1, padding=1)\n",
    "        self.pool = nn.MaxPool3d(kernel_size=2, stride=2, padding=0)\n",
    "        self.conv2 = nn.Conv3d(32, 64, kernel_size=3, stride=1, padding=1)\n",
    "        self.fc1 = nn.Linear(64 * 12 * 12 * 12, 128)  # Update based on input size\n",
    "        self.fc2 = nn.Linear(128, 1)  # Regression for orientation\n",
    "\n",
    "    def forward(self, x):\n",
    "        x = self.pool(torch.relu(self.conv1(x)))\n",
    "        x = self.pool(torch.relu(self.conv2(x)))\n",
    "        x = x.view(-1, 64 * 12 * 12 * 12)  # Flatten\n",
    "        x = torch.relu(self.fc1(x))\n",
    "        x = self.fc2(x)\n",
    "        return x"
   ]
  },
  {
   "cell_type": "code",
   "execution_count": 23,
   "id": "3ae48fee-d9be-4b78-9e34-e6cff405c937",
   "metadata": {},
   "outputs": [],
   "source": [
    "# Train and evaluate the CNN\n",
    "def train_model(model, train_loader, criterion, optimizer, num_epochs=5):\n",
    "    for epoch in range(num_epochs):\n",
    "        model.train()\n",
    "        running_loss = 0.0\n",
    "        for images, labels in train_loader:\n",
    "            optimizer.zero_grad()\n",
    "            outputs = model(images)\n",
    "            loss = criterion(outputs.view(-1), labels)\n",
    "            loss.backward()\n",
    "            optimizer.step()\n",
    "            running_loss += loss.item()\n",
    "        print(f'Epoch [{epoch+1}/{num_epochs}], Loss: {running_loss/len(train_loader):.4f}')\n"
   ]
  },
  {
   "cell_type": "markdown",
   "id": "7df655f9-feeb-44ee-b836-c62130b94102",
   "metadata": {},
   "source": [
    "## 2. Load and Preprocess the VR trajectory data:"
   ]
  },
  {
   "cell_type": "code",
   "execution_count": 24,
   "id": "920d2c34-3560-4291-875a-866f855fb564",
   "metadata": {},
   "outputs": [
    {
     "name": "stdout",
     "output_type": "stream",
     "text": [
      "Loaded behavioral data from: C:\\Users\\sdabiri\\OneDrive - Georgia Institute of Technology\\BMED 8803 - Stat ML for Neural data\\Project\\Small_Dataset\\s05\\BehavioralData_s05\\s05_indoor_NoBarrier_run001.tsv\n",
      "Loaded behavioral data from: C:\\Users\\sdabiri\\OneDrive - Georgia Institute of Technology\\BMED 8803 - Stat ML for Neural data\\Project\\Small_Dataset\\s05\\BehavioralData_s05\\s05_indoor_NoBarrier_run002.tsv\n",
      "Loaded behavioral data from: C:\\Users\\sdabiri\\OneDrive - Georgia Institute of Technology\\BMED 8803 - Stat ML for Neural data\\Project\\Small_Dataset\\s05\\BehavioralData_s05\\s05_indoor_NoBarrier_run003.tsv\n",
      "Loaded behavioral data from: C:\\Users\\sdabiri\\OneDrive - Georgia Institute of Technology\\BMED 8803 - Stat ML for Neural data\\Project\\Small_Dataset\\s05\\BehavioralData_s05\\s05_indoor_NoBarrier_run004.tsv\n",
      "Loaded behavioral data from: C:\\Users\\sdabiri\\OneDrive - Georgia Institute of Technology\\BMED 8803 - Stat ML for Neural data\\Project\\Small_Dataset\\s05\\BehavioralData_s05\\s05_indoor_NoBarrier_run005.tsv\n",
      "Loaded behavioral data from: C:\\Users\\sdabiri\\OneDrive - Georgia Institute of Technology\\BMED 8803 - Stat ML for Neural data\\Project\\Small_Dataset\\s05\\BehavioralData_s05\\s05_indoor_NoBarrier_run006.tsv\n",
      "Loaded behavioral data from: C:\\Users\\sdabiri\\OneDrive - Georgia Institute of Technology\\BMED 8803 - Stat ML for Neural data\\Project\\Small_Dataset\\s05\\BehavioralData_s05\\s05_outdoor_Barrier_run007.tsv\n",
      "Loaded behavioral data from: C:\\Users\\sdabiri\\OneDrive - Georgia Institute of Technology\\BMED 8803 - Stat ML for Neural data\\Project\\Small_Dataset\\s05\\BehavioralData_s05\\s05_outdoor_Barrier_run008.tsv\n",
      "Loaded behavioral data from: C:\\Users\\sdabiri\\OneDrive - Georgia Institute of Technology\\BMED 8803 - Stat ML for Neural data\\Project\\Small_Dataset\\s05\\BehavioralData_s05\\s05_outdoor_Barrier_run009.tsv\n",
      "Loaded behavioral data from: C:\\Users\\sdabiri\\OneDrive - Georgia Institute of Technology\\BMED 8803 - Stat ML for Neural data\\Project\\Small_Dataset\\s05\\BehavioralData_s05\\s05_outdoor_Barrier_run010.tsv\n",
      "Loaded behavioral data from: C:\\Users\\sdabiri\\OneDrive - Georgia Institute of Technology\\BMED 8803 - Stat ML for Neural data\\Project\\Small_Dataset\\s05\\BehavioralData_s05\\s05_outdoor_Barrier_run011.tsv\n",
      "Loaded behavioral data from: C:\\Users\\sdabiri\\OneDrive - Georgia Institute of Technology\\BMED 8803 - Stat ML for Neural data\\Project\\Small_Dataset\\s05\\BehavioralData_s05\\s05_outdoor_Barrier_run012.tsv\n",
      "Loaded behavioral data from: C:\\Users\\sdabiri\\OneDrive - Georgia Institute of Technology\\BMED 8803 - Stat ML for Neural data\\Project\\Small_Dataset\\s05\\BehavioralData_s05\\s05_indoor_NoBarrier_run001.tsv\n",
      "Loaded behavioral data from: C:\\Users\\sdabiri\\OneDrive - Georgia Institute of Technology\\BMED 8803 - Stat ML for Neural data\\Project\\Small_Dataset\\s05\\BehavioralData_s05\\s05_indoor_NoBarrier_run002.tsv\n",
      "Loaded behavioral data from: C:\\Users\\sdabiri\\OneDrive - Georgia Institute of Technology\\BMED 8803 - Stat ML for Neural data\\Project\\Small_Dataset\\s05\\BehavioralData_s05\\s05_indoor_NoBarrier_run003.tsv\n",
      "Loaded behavioral data from: C:\\Users\\sdabiri\\OneDrive - Georgia Institute of Technology\\BMED 8803 - Stat ML for Neural data\\Project\\Small_Dataset\\s05\\BehavioralData_s05\\s05_indoor_NoBarrier_run004.tsv\n",
      "Loaded behavioral data from: C:\\Users\\sdabiri\\OneDrive - Georgia Institute of Technology\\BMED 8803 - Stat ML for Neural data\\Project\\Small_Dataset\\s05\\BehavioralData_s05\\s05_indoor_NoBarrier_run005.tsv\n",
      "Loaded behavioral data from: C:\\Users\\sdabiri\\OneDrive - Georgia Institute of Technology\\BMED 8803 - Stat ML for Neural data\\Project\\Small_Dataset\\s05\\BehavioralData_s05\\s05_indoor_NoBarrier_run006.tsv\n",
      "Loaded behavioral data from: C:\\Users\\sdabiri\\OneDrive - Georgia Institute of Technology\\BMED 8803 - Stat ML for Neural data\\Project\\Small_Dataset\\s05\\BehavioralData_s05\\s05_outdoor_Barrier_run007.tsv\n",
      "Loaded behavioral data from: C:\\Users\\sdabiri\\OneDrive - Georgia Institute of Technology\\BMED 8803 - Stat ML for Neural data\\Project\\Small_Dataset\\s05\\BehavioralData_s05\\s05_outdoor_Barrier_run008.tsv\n",
      "Loaded behavioral data from: C:\\Users\\sdabiri\\OneDrive - Georgia Institute of Technology\\BMED 8803 - Stat ML for Neural data\\Project\\Small_Dataset\\s05\\BehavioralData_s05\\s05_outdoor_Barrier_run009.tsv\n",
      "Loaded behavioral data from: C:\\Users\\sdabiri\\OneDrive - Georgia Institute of Technology\\BMED 8803 - Stat ML for Neural data\\Project\\Small_Dataset\\s05\\BehavioralData_s05\\s05_outdoor_Barrier_run010.tsv\n",
      "Loaded behavioral data from: C:\\Users\\sdabiri\\OneDrive - Georgia Institute of Technology\\BMED 8803 - Stat ML for Neural data\\Project\\Small_Dataset\\s05\\BehavioralData_s05\\s05_outdoor_Barrier_run011.tsv\n",
      "Loaded behavioral data from: C:\\Users\\sdabiri\\OneDrive - Georgia Institute of Technology\\BMED 8803 - Stat ML for Neural data\\Project\\Small_Dataset\\s05\\BehavioralData_s05\\s05_outdoor_Barrier_run012.tsv\n",
      "Loaded behavioral data from: C:\\Users\\sdabiri\\OneDrive - Georgia Institute of Technology\\BMED 8803 - Stat ML for Neural data\\Project\\Small_Dataset\\s05\\BehavioralData_s05\\s05_indoor_NoBarrier_run001.tsv\n",
      "Loaded behavioral data from: C:\\Users\\sdabiri\\OneDrive - Georgia Institute of Technology\\BMED 8803 - Stat ML for Neural data\\Project\\Small_Dataset\\s05\\BehavioralData_s05\\s05_indoor_NoBarrier_run002.tsv\n",
      "Loaded behavioral data from: C:\\Users\\sdabiri\\OneDrive - Georgia Institute of Technology\\BMED 8803 - Stat ML for Neural data\\Project\\Small_Dataset\\s05\\BehavioralData_s05\\s05_indoor_NoBarrier_run003.tsv\n",
      "Loaded behavioral data from: C:\\Users\\sdabiri\\OneDrive - Georgia Institute of Technology\\BMED 8803 - Stat ML for Neural data\\Project\\Small_Dataset\\s05\\BehavioralData_s05\\s05_indoor_NoBarrier_run004.tsv\n",
      "Loaded behavioral data from: C:\\Users\\sdabiri\\OneDrive - Georgia Institute of Technology\\BMED 8803 - Stat ML for Neural data\\Project\\Small_Dataset\\s05\\BehavioralData_s05\\s05_indoor_NoBarrier_run005.tsv\n",
      "Loaded behavioral data from: C:\\Users\\sdabiri\\OneDrive - Georgia Institute of Technology\\BMED 8803 - Stat ML for Neural data\\Project\\Small_Dataset\\s05\\BehavioralData_s05\\s05_indoor_NoBarrier_run006.tsv\n",
      "Loaded behavioral data from: C:\\Users\\sdabiri\\OneDrive - Georgia Institute of Technology\\BMED 8803 - Stat ML for Neural data\\Project\\Small_Dataset\\s05\\BehavioralData_s05\\s05_outdoor_Barrier_run007.tsv\n",
      "Loaded behavioral data from: C:\\Users\\sdabiri\\OneDrive - Georgia Institute of Technology\\BMED 8803 - Stat ML for Neural data\\Project\\Small_Dataset\\s05\\BehavioralData_s05\\s05_outdoor_Barrier_run008.tsv\n",
      "Loaded behavioral data from: C:\\Users\\sdabiri\\OneDrive - Georgia Institute of Technology\\BMED 8803 - Stat ML for Neural data\\Project\\Small_Dataset\\s05\\BehavioralData_s05\\s05_outdoor_Barrier_run009.tsv\n",
      "Loaded behavioral data from: C:\\Users\\sdabiri\\OneDrive - Georgia Institute of Technology\\BMED 8803 - Stat ML for Neural data\\Project\\Small_Dataset\\s05\\BehavioralData_s05\\s05_outdoor_Barrier_run010.tsv\n",
      "Loaded behavioral data from: C:\\Users\\sdabiri\\OneDrive - Georgia Institute of Technology\\BMED 8803 - Stat ML for Neural data\\Project\\Small_Dataset\\s05\\BehavioralData_s05\\s05_outdoor_Barrier_run011.tsv\n",
      "Loaded behavioral data from: C:\\Users\\sdabiri\\OneDrive - Georgia Institute of Technology\\BMED 8803 - Stat ML for Neural data\\Project\\Small_Dataset\\s05\\BehavioralData_s05\\s05_outdoor_Barrier_run012.tsv\n",
      "Loaded behavioral data from: C:\\Users\\sdabiri\\OneDrive - Georgia Institute of Technology\\BMED 8803 - Stat ML for Neural data\\Project\\Small_Dataset\\s05\\BehavioralData_s05\\s05_indoor_NoBarrier_run001.tsv\n",
      "Loaded behavioral data from: C:\\Users\\sdabiri\\OneDrive - Georgia Institute of Technology\\BMED 8803 - Stat ML for Neural data\\Project\\Small_Dataset\\s05\\BehavioralData_s05\\s05_indoor_NoBarrier_run002.tsv\n",
      "Loaded behavioral data from: C:\\Users\\sdabiri\\OneDrive - Georgia Institute of Technology\\BMED 8803 - Stat ML for Neural data\\Project\\Small_Dataset\\s05\\BehavioralData_s05\\s05_indoor_NoBarrier_run003.tsv\n",
      "Loaded behavioral data from: C:\\Users\\sdabiri\\OneDrive - Georgia Institute of Technology\\BMED 8803 - Stat ML for Neural data\\Project\\Small_Dataset\\s05\\BehavioralData_s05\\s05_indoor_NoBarrier_run004.tsv\n",
      "Loaded behavioral data from: C:\\Users\\sdabiri\\OneDrive - Georgia Institute of Technology\\BMED 8803 - Stat ML for Neural data\\Project\\Small_Dataset\\s05\\BehavioralData_s05\\s05_indoor_NoBarrier_run005.tsv\n",
      "Loaded behavioral data from: C:\\Users\\sdabiri\\OneDrive - Georgia Institute of Technology\\BMED 8803 - Stat ML for Neural data\\Project\\Small_Dataset\\s05\\BehavioralData_s05\\s05_indoor_NoBarrier_run006.tsv\n",
      "Loaded behavioral data from: C:\\Users\\sdabiri\\OneDrive - Georgia Institute of Technology\\BMED 8803 - Stat ML for Neural data\\Project\\Small_Dataset\\s05\\BehavioralData_s05\\s05_outdoor_Barrier_run007.tsv\n",
      "Loaded behavioral data from: C:\\Users\\sdabiri\\OneDrive - Georgia Institute of Technology\\BMED 8803 - Stat ML for Neural data\\Project\\Small_Dataset\\s05\\BehavioralData_s05\\s05_outdoor_Barrier_run008.tsv\n",
      "Loaded behavioral data from: C:\\Users\\sdabiri\\OneDrive - Georgia Institute of Technology\\BMED 8803 - Stat ML for Neural data\\Project\\Small_Dataset\\s05\\BehavioralData_s05\\s05_outdoor_Barrier_run009.tsv\n",
      "Loaded behavioral data from: C:\\Users\\sdabiri\\OneDrive - Georgia Institute of Technology\\BMED 8803 - Stat ML for Neural data\\Project\\Small_Dataset\\s05\\BehavioralData_s05\\s05_outdoor_Barrier_run010.tsv\n",
      "Loaded behavioral data from: C:\\Users\\sdabiri\\OneDrive - Georgia Institute of Technology\\BMED 8803 - Stat ML for Neural data\\Project\\Small_Dataset\\s05\\BehavioralData_s05\\s05_outdoor_Barrier_run011.tsv\n",
      "Loaded behavioral data from: C:\\Users\\sdabiri\\OneDrive - Georgia Institute of Technology\\BMED 8803 - Stat ML for Neural data\\Project\\Small_Dataset\\s05\\BehavioralData_s05\\s05_outdoor_Barrier_run012.tsv\n",
      "Loaded behavioral data from: C:\\Users\\sdabiri\\OneDrive - Georgia Institute of Technology\\BMED 8803 - Stat ML for Neural data\\Project\\Small_Dataset\\s05\\BehavioralData_s05\\s05_indoor_NoBarrier_run001.tsv\n",
      "Loaded behavioral data from: C:\\Users\\sdabiri\\OneDrive - Georgia Institute of Technology\\BMED 8803 - Stat ML for Neural data\\Project\\Small_Dataset\\s05\\BehavioralData_s05\\s05_indoor_NoBarrier_run002.tsv\n",
      "Loaded behavioral data from: C:\\Users\\sdabiri\\OneDrive - Georgia Institute of Technology\\BMED 8803 - Stat ML for Neural data\\Project\\Small_Dataset\\s05\\BehavioralData_s05\\s05_indoor_NoBarrier_run003.tsv\n",
      "Loaded behavioral data from: C:\\Users\\sdabiri\\OneDrive - Georgia Institute of Technology\\BMED 8803 - Stat ML for Neural data\\Project\\Small_Dataset\\s05\\BehavioralData_s05\\s05_indoor_NoBarrier_run004.tsv\n",
      "Loaded behavioral data from: C:\\Users\\sdabiri\\OneDrive - Georgia Institute of Technology\\BMED 8803 - Stat ML for Neural data\\Project\\Small_Dataset\\s05\\BehavioralData_s05\\s05_indoor_NoBarrier_run005.tsv\n",
      "Loaded behavioral data from: C:\\Users\\sdabiri\\OneDrive - Georgia Institute of Technology\\BMED 8803 - Stat ML for Neural data\\Project\\Small_Dataset\\s05\\BehavioralData_s05\\s05_indoor_NoBarrier_run006.tsv\n",
      "Loaded behavioral data from: C:\\Users\\sdabiri\\OneDrive - Georgia Institute of Technology\\BMED 8803 - Stat ML for Neural data\\Project\\Small_Dataset\\s05\\BehavioralData_s05\\s05_outdoor_Barrier_run007.tsv\n",
      "Loaded behavioral data from: C:\\Users\\sdabiri\\OneDrive - Georgia Institute of Technology\\BMED 8803 - Stat ML for Neural data\\Project\\Small_Dataset\\s05\\BehavioralData_s05\\s05_outdoor_Barrier_run008.tsv\n",
      "Loaded behavioral data from: C:\\Users\\sdabiri\\OneDrive - Georgia Institute of Technology\\BMED 8803 - Stat ML for Neural data\\Project\\Small_Dataset\\s05\\BehavioralData_s05\\s05_outdoor_Barrier_run009.tsv\n",
      "Loaded behavioral data from: C:\\Users\\sdabiri\\OneDrive - Georgia Institute of Technology\\BMED 8803 - Stat ML for Neural data\\Project\\Small_Dataset\\s05\\BehavioralData_s05\\s05_outdoor_Barrier_run010.tsv\n",
      "Loaded behavioral data from: C:\\Users\\sdabiri\\OneDrive - Georgia Institute of Technology\\BMED 8803 - Stat ML for Neural data\\Project\\Small_Dataset\\s05\\BehavioralData_s05\\s05_outdoor_Barrier_run011.tsv\n",
      "Loaded behavioral data from: C:\\Users\\sdabiri\\OneDrive - Georgia Institute of Technology\\BMED 8803 - Stat ML for Neural data\\Project\\Small_Dataset\\s05\\BehavioralData_s05\\s05_outdoor_Barrier_run012.tsv\n",
      "Loaded behavioral data from: C:\\Users\\sdabiri\\OneDrive - Georgia Institute of Technology\\BMED 8803 - Stat ML for Neural data\\Project\\Small_Dataset\\s05\\BehavioralData_s05\\s05_indoor_NoBarrier_run001.tsv\n",
      "Loaded behavioral data from: C:\\Users\\sdabiri\\OneDrive - Georgia Institute of Technology\\BMED 8803 - Stat ML for Neural data\\Project\\Small_Dataset\\s05\\BehavioralData_s05\\s05_indoor_NoBarrier_run002.tsv\n",
      "Loaded behavioral data from: C:\\Users\\sdabiri\\OneDrive - Georgia Institute of Technology\\BMED 8803 - Stat ML for Neural data\\Project\\Small_Dataset\\s05\\BehavioralData_s05\\s05_indoor_NoBarrier_run003.tsv\n",
      "Loaded behavioral data from: C:\\Users\\sdabiri\\OneDrive - Georgia Institute of Technology\\BMED 8803 - Stat ML for Neural data\\Project\\Small_Dataset\\s05\\BehavioralData_s05\\s05_indoor_NoBarrier_run004.tsv\n",
      "Loaded behavioral data from: C:\\Users\\sdabiri\\OneDrive - Georgia Institute of Technology\\BMED 8803 - Stat ML for Neural data\\Project\\Small_Dataset\\s05\\BehavioralData_s05\\s05_indoor_NoBarrier_run005.tsv\n",
      "Loaded behavioral data from: C:\\Users\\sdabiri\\OneDrive - Georgia Institute of Technology\\BMED 8803 - Stat ML for Neural data\\Project\\Small_Dataset\\s05\\BehavioralData_s05\\s05_indoor_NoBarrier_run006.tsv\n",
      "Loaded behavioral data from: C:\\Users\\sdabiri\\OneDrive - Georgia Institute of Technology\\BMED 8803 - Stat ML for Neural data\\Project\\Small_Dataset\\s05\\BehavioralData_s05\\s05_outdoor_Barrier_run007.tsv\n",
      "Loaded behavioral data from: C:\\Users\\sdabiri\\OneDrive - Georgia Institute of Technology\\BMED 8803 - Stat ML for Neural data\\Project\\Small_Dataset\\s05\\BehavioralData_s05\\s05_outdoor_Barrier_run008.tsv\n",
      "Loaded behavioral data from: C:\\Users\\sdabiri\\OneDrive - Georgia Institute of Technology\\BMED 8803 - Stat ML for Neural data\\Project\\Small_Dataset\\s05\\BehavioralData_s05\\s05_outdoor_Barrier_run009.tsv\n",
      "Loaded behavioral data from: C:\\Users\\sdabiri\\OneDrive - Georgia Institute of Technology\\BMED 8803 - Stat ML for Neural data\\Project\\Small_Dataset\\s05\\BehavioralData_s05\\s05_outdoor_Barrier_run010.tsv\n",
      "Loaded behavioral data from: C:\\Users\\sdabiri\\OneDrive - Georgia Institute of Technology\\BMED 8803 - Stat ML for Neural data\\Project\\Small_Dataset\\s05\\BehavioralData_s05\\s05_outdoor_Barrier_run011.tsv\n",
      "Loaded behavioral data from: C:\\Users\\sdabiri\\OneDrive - Georgia Institute of Technology\\BMED 8803 - Stat ML for Neural data\\Project\\Small_Dataset\\s05\\BehavioralData_s05\\s05_outdoor_Barrier_run012.tsv\n",
      "Loaded behavioral data from: C:\\Users\\sdabiri\\OneDrive - Georgia Institute of Technology\\BMED 8803 - Stat ML for Neural data\\Project\\Small_Dataset\\s05\\BehavioralData_s05\\s05_indoor_NoBarrier_run001.tsv\n",
      "Loaded behavioral data from: C:\\Users\\sdabiri\\OneDrive - Georgia Institute of Technology\\BMED 8803 - Stat ML for Neural data\\Project\\Small_Dataset\\s05\\BehavioralData_s05\\s05_indoor_NoBarrier_run002.tsv\n",
      "Loaded behavioral data from: C:\\Users\\sdabiri\\OneDrive - Georgia Institute of Technology\\BMED 8803 - Stat ML for Neural data\\Project\\Small_Dataset\\s05\\BehavioralData_s05\\s05_indoor_NoBarrier_run003.tsv\n",
      "Loaded behavioral data from: C:\\Users\\sdabiri\\OneDrive - Georgia Institute of Technology\\BMED 8803 - Stat ML for Neural data\\Project\\Small_Dataset\\s05\\BehavioralData_s05\\s05_indoor_NoBarrier_run004.tsv\n",
      "Loaded behavioral data from: C:\\Users\\sdabiri\\OneDrive - Georgia Institute of Technology\\BMED 8803 - Stat ML for Neural data\\Project\\Small_Dataset\\s05\\BehavioralData_s05\\s05_indoor_NoBarrier_run005.tsv\n",
      "Loaded behavioral data from: C:\\Users\\sdabiri\\OneDrive - Georgia Institute of Technology\\BMED 8803 - Stat ML for Neural data\\Project\\Small_Dataset\\s05\\BehavioralData_s05\\s05_indoor_NoBarrier_run006.tsv\n",
      "Loaded behavioral data from: C:\\Users\\sdabiri\\OneDrive - Georgia Institute of Technology\\BMED 8803 - Stat ML for Neural data\\Project\\Small_Dataset\\s05\\BehavioralData_s05\\s05_outdoor_Barrier_run007.tsv\n",
      "Loaded behavioral data from: C:\\Users\\sdabiri\\OneDrive - Georgia Institute of Technology\\BMED 8803 - Stat ML for Neural data\\Project\\Small_Dataset\\s05\\BehavioralData_s05\\s05_outdoor_Barrier_run008.tsv\n",
      "Loaded behavioral data from: C:\\Users\\sdabiri\\OneDrive - Georgia Institute of Technology\\BMED 8803 - Stat ML for Neural data\\Project\\Small_Dataset\\s05\\BehavioralData_s05\\s05_outdoor_Barrier_run009.tsv\n",
      "Loaded behavioral data from: C:\\Users\\sdabiri\\OneDrive - Georgia Institute of Technology\\BMED 8803 - Stat ML for Neural data\\Project\\Small_Dataset\\s05\\BehavioralData_s05\\s05_outdoor_Barrier_run010.tsv\n",
      "Loaded behavioral data from: C:\\Users\\sdabiri\\OneDrive - Georgia Institute of Technology\\BMED 8803 - Stat ML for Neural data\\Project\\Small_Dataset\\s05\\BehavioralData_s05\\s05_outdoor_Barrier_run011.tsv\n",
      "Loaded behavioral data from: C:\\Users\\sdabiri\\OneDrive - Georgia Institute of Technology\\BMED 8803 - Stat ML for Neural data\\Project\\Small_Dataset\\s05\\BehavioralData_s05\\s05_outdoor_Barrier_run012.tsv\n",
      "Loaded behavioral data from: C:\\Users\\sdabiri\\OneDrive - Georgia Institute of Technology\\BMED 8803 - Stat ML for Neural data\\Project\\Small_Dataset\\s05\\BehavioralData_s05\\s05_indoor_NoBarrier_run001.tsv\n",
      "Loaded behavioral data from: C:\\Users\\sdabiri\\OneDrive - Georgia Institute of Technology\\BMED 8803 - Stat ML for Neural data\\Project\\Small_Dataset\\s05\\BehavioralData_s05\\s05_indoor_NoBarrier_run002.tsv\n",
      "Loaded behavioral data from: C:\\Users\\sdabiri\\OneDrive - Georgia Institute of Technology\\BMED 8803 - Stat ML for Neural data\\Project\\Small_Dataset\\s05\\BehavioralData_s05\\s05_indoor_NoBarrier_run003.tsv\n",
      "Loaded behavioral data from: C:\\Users\\sdabiri\\OneDrive - Georgia Institute of Technology\\BMED 8803 - Stat ML for Neural data\\Project\\Small_Dataset\\s05\\BehavioralData_s05\\s05_indoor_NoBarrier_run004.tsv\n",
      "Loaded behavioral data from: C:\\Users\\sdabiri\\OneDrive - Georgia Institute of Technology\\BMED 8803 - Stat ML for Neural data\\Project\\Small_Dataset\\s05\\BehavioralData_s05\\s05_indoor_NoBarrier_run005.tsv\n",
      "Loaded behavioral data from: C:\\Users\\sdabiri\\OneDrive - Georgia Institute of Technology\\BMED 8803 - Stat ML for Neural data\\Project\\Small_Dataset\\s05\\BehavioralData_s05\\s05_indoor_NoBarrier_run006.tsv\n",
      "Loaded behavioral data from: C:\\Users\\sdabiri\\OneDrive - Georgia Institute of Technology\\BMED 8803 - Stat ML for Neural data\\Project\\Small_Dataset\\s05\\BehavioralData_s05\\s05_outdoor_Barrier_run007.tsv\n",
      "Loaded behavioral data from: C:\\Users\\sdabiri\\OneDrive - Georgia Institute of Technology\\BMED 8803 - Stat ML for Neural data\\Project\\Small_Dataset\\s05\\BehavioralData_s05\\s05_outdoor_Barrier_run008.tsv\n",
      "Loaded behavioral data from: C:\\Users\\sdabiri\\OneDrive - Georgia Institute of Technology\\BMED 8803 - Stat ML for Neural data\\Project\\Small_Dataset\\s05\\BehavioralData_s05\\s05_outdoor_Barrier_run009.tsv\n",
      "Loaded behavioral data from: C:\\Users\\sdabiri\\OneDrive - Georgia Institute of Technology\\BMED 8803 - Stat ML for Neural data\\Project\\Small_Dataset\\s05\\BehavioralData_s05\\s05_outdoor_Barrier_run010.tsv\n",
      "Loaded behavioral data from: C:\\Users\\sdabiri\\OneDrive - Georgia Institute of Technology\\BMED 8803 - Stat ML for Neural data\\Project\\Small_Dataset\\s05\\BehavioralData_s05\\s05_outdoor_Barrier_run011.tsv\n",
      "Loaded behavioral data from: C:\\Users\\sdabiri\\OneDrive - Georgia Institute of Technology\\BMED 8803 - Stat ML for Neural data\\Project\\Small_Dataset\\s05\\BehavioralData_s05\\s05_outdoor_Barrier_run012.tsv\n",
      "Loaded behavioral data from: C:\\Users\\sdabiri\\OneDrive - Georgia Institute of Technology\\BMED 8803 - Stat ML for Neural data\\Project\\Small_Dataset\\s05\\BehavioralData_s05\\s05_indoor_NoBarrier_run001.tsv\n",
      "Loaded behavioral data from: C:\\Users\\sdabiri\\OneDrive - Georgia Institute of Technology\\BMED 8803 - Stat ML for Neural data\\Project\\Small_Dataset\\s05\\BehavioralData_s05\\s05_indoor_NoBarrier_run002.tsv\n",
      "Loaded behavioral data from: C:\\Users\\sdabiri\\OneDrive - Georgia Institute of Technology\\BMED 8803 - Stat ML for Neural data\\Project\\Small_Dataset\\s05\\BehavioralData_s05\\s05_indoor_NoBarrier_run003.tsv\n",
      "Loaded behavioral data from: C:\\Users\\sdabiri\\OneDrive - Georgia Institute of Technology\\BMED 8803 - Stat ML for Neural data\\Project\\Small_Dataset\\s05\\BehavioralData_s05\\s05_indoor_NoBarrier_run004.tsv\n",
      "Loaded behavioral data from: C:\\Users\\sdabiri\\OneDrive - Georgia Institute of Technology\\BMED 8803 - Stat ML for Neural data\\Project\\Small_Dataset\\s05\\BehavioralData_s05\\s05_indoor_NoBarrier_run005.tsv\n",
      "Loaded behavioral data from: C:\\Users\\sdabiri\\OneDrive - Georgia Institute of Technology\\BMED 8803 - Stat ML for Neural data\\Project\\Small_Dataset\\s05\\BehavioralData_s05\\s05_indoor_NoBarrier_run006.tsv\n",
      "Loaded behavioral data from: C:\\Users\\sdabiri\\OneDrive - Georgia Institute of Technology\\BMED 8803 - Stat ML for Neural data\\Project\\Small_Dataset\\s05\\BehavioralData_s05\\s05_outdoor_Barrier_run007.tsv\n",
      "Loaded behavioral data from: C:\\Users\\sdabiri\\OneDrive - Georgia Institute of Technology\\BMED 8803 - Stat ML for Neural data\\Project\\Small_Dataset\\s05\\BehavioralData_s05\\s05_outdoor_Barrier_run008.tsv\n",
      "Loaded behavioral data from: C:\\Users\\sdabiri\\OneDrive - Georgia Institute of Technology\\BMED 8803 - Stat ML for Neural data\\Project\\Small_Dataset\\s05\\BehavioralData_s05\\s05_outdoor_Barrier_run009.tsv\n",
      "Loaded behavioral data from: C:\\Users\\sdabiri\\OneDrive - Georgia Institute of Technology\\BMED 8803 - Stat ML for Neural data\\Project\\Small_Dataset\\s05\\BehavioralData_s05\\s05_outdoor_Barrier_run010.tsv\n",
      "Loaded behavioral data from: C:\\Users\\sdabiri\\OneDrive - Georgia Institute of Technology\\BMED 8803 - Stat ML for Neural data\\Project\\Small_Dataset\\s05\\BehavioralData_s05\\s05_outdoor_Barrier_run011.tsv\n",
      "Loaded behavioral data from: C:\\Users\\sdabiri\\OneDrive - Georgia Institute of Technology\\BMED 8803 - Stat ML for Neural data\\Project\\Small_Dataset\\s05\\BehavioralData_s05\\s05_outdoor_Barrier_run012.tsv\n",
      "Loaded behavioral data from: C:\\Users\\sdabiri\\OneDrive - Georgia Institute of Technology\\BMED 8803 - Stat ML for Neural data\\Project\\Small_Dataset\\s05\\BehavioralData_s05\\s05_indoor_NoBarrier_run001.tsv\n",
      "Loaded behavioral data from: C:\\Users\\sdabiri\\OneDrive - Georgia Institute of Technology\\BMED 8803 - Stat ML for Neural data\\Project\\Small_Dataset\\s05\\BehavioralData_s05\\s05_indoor_NoBarrier_run002.tsv\n",
      "Loaded behavioral data from: C:\\Users\\sdabiri\\OneDrive - Georgia Institute of Technology\\BMED 8803 - Stat ML for Neural data\\Project\\Small_Dataset\\s05\\BehavioralData_s05\\s05_indoor_NoBarrier_run003.tsv\n",
      "Loaded behavioral data from: C:\\Users\\sdabiri\\OneDrive - Georgia Institute of Technology\\BMED 8803 - Stat ML for Neural data\\Project\\Small_Dataset\\s05\\BehavioralData_s05\\s05_indoor_NoBarrier_run004.tsv\n",
      "Loaded behavioral data from: C:\\Users\\sdabiri\\OneDrive - Georgia Institute of Technology\\BMED 8803 - Stat ML for Neural data\\Project\\Small_Dataset\\s05\\BehavioralData_s05\\s05_indoor_NoBarrier_run005.tsv\n",
      "Loaded behavioral data from: C:\\Users\\sdabiri\\OneDrive - Georgia Institute of Technology\\BMED 8803 - Stat ML for Neural data\\Project\\Small_Dataset\\s05\\BehavioralData_s05\\s05_indoor_NoBarrier_run006.tsv\n",
      "Loaded behavioral data from: C:\\Users\\sdabiri\\OneDrive - Georgia Institute of Technology\\BMED 8803 - Stat ML for Neural data\\Project\\Small_Dataset\\s05\\BehavioralData_s05\\s05_outdoor_Barrier_run007.tsv\n",
      "Loaded behavioral data from: C:\\Users\\sdabiri\\OneDrive - Georgia Institute of Technology\\BMED 8803 - Stat ML for Neural data\\Project\\Small_Dataset\\s05\\BehavioralData_s05\\s05_outdoor_Barrier_run008.tsv\n",
      "Loaded behavioral data from: C:\\Users\\sdabiri\\OneDrive - Georgia Institute of Technology\\BMED 8803 - Stat ML for Neural data\\Project\\Small_Dataset\\s05\\BehavioralData_s05\\s05_outdoor_Barrier_run009.tsv\n",
      "Loaded behavioral data from: C:\\Users\\sdabiri\\OneDrive - Georgia Institute of Technology\\BMED 8803 - Stat ML for Neural data\\Project\\Small_Dataset\\s05\\BehavioralData_s05\\s05_outdoor_Barrier_run010.tsv\n",
      "Loaded behavioral data from: C:\\Users\\sdabiri\\OneDrive - Georgia Institute of Technology\\BMED 8803 - Stat ML for Neural data\\Project\\Small_Dataset\\s05\\BehavioralData_s05\\s05_outdoor_Barrier_run011.tsv\n",
      "Loaded behavioral data from: C:\\Users\\sdabiri\\OneDrive - Georgia Institute of Technology\\BMED 8803 - Stat ML for Neural data\\Project\\Small_Dataset\\s05\\BehavioralData_s05\\s05_outdoor_Barrier_run012.tsv\n",
      "Loaded behavioral data from: C:\\Users\\sdabiri\\OneDrive - Georgia Institute of Technology\\BMED 8803 - Stat ML for Neural data\\Project\\Small_Dataset\\s05\\BehavioralData_s05\\s05_indoor_NoBarrier_run001.tsv\n",
      "Loaded behavioral data from: C:\\Users\\sdabiri\\OneDrive - Georgia Institute of Technology\\BMED 8803 - Stat ML for Neural data\\Project\\Small_Dataset\\s05\\BehavioralData_s05\\s05_indoor_NoBarrier_run002.tsv\n",
      "Loaded behavioral data from: C:\\Users\\sdabiri\\OneDrive - Georgia Institute of Technology\\BMED 8803 - Stat ML for Neural data\\Project\\Small_Dataset\\s05\\BehavioralData_s05\\s05_indoor_NoBarrier_run003.tsv\n",
      "Loaded behavioral data from: C:\\Users\\sdabiri\\OneDrive - Georgia Institute of Technology\\BMED 8803 - Stat ML for Neural data\\Project\\Small_Dataset\\s05\\BehavioralData_s05\\s05_indoor_NoBarrier_run004.tsv\n",
      "Loaded behavioral data from: C:\\Users\\sdabiri\\OneDrive - Georgia Institute of Technology\\BMED 8803 - Stat ML for Neural data\\Project\\Small_Dataset\\s05\\BehavioralData_s05\\s05_indoor_NoBarrier_run005.tsv\n",
      "Loaded behavioral data from: C:\\Users\\sdabiri\\OneDrive - Georgia Institute of Technology\\BMED 8803 - Stat ML for Neural data\\Project\\Small_Dataset\\s05\\BehavioralData_s05\\s05_indoor_NoBarrier_run006.tsv\n",
      "Loaded behavioral data from: C:\\Users\\sdabiri\\OneDrive - Georgia Institute of Technology\\BMED 8803 - Stat ML for Neural data\\Project\\Small_Dataset\\s05\\BehavioralData_s05\\s05_outdoor_Barrier_run007.tsv\n",
      "Loaded behavioral data from: C:\\Users\\sdabiri\\OneDrive - Georgia Institute of Technology\\BMED 8803 - Stat ML for Neural data\\Project\\Small_Dataset\\s05\\BehavioralData_s05\\s05_outdoor_Barrier_run008.tsv\n",
      "Loaded behavioral data from: C:\\Users\\sdabiri\\OneDrive - Georgia Institute of Technology\\BMED 8803 - Stat ML for Neural data\\Project\\Small_Dataset\\s05\\BehavioralData_s05\\s05_outdoor_Barrier_run009.tsv\n",
      "Loaded behavioral data from: C:\\Users\\sdabiri\\OneDrive - Georgia Institute of Technology\\BMED 8803 - Stat ML for Neural data\\Project\\Small_Dataset\\s05\\BehavioralData_s05\\s05_outdoor_Barrier_run010.tsv\n",
      "Loaded behavioral data from: C:\\Users\\sdabiri\\OneDrive - Georgia Institute of Technology\\BMED 8803 - Stat ML for Neural data\\Project\\Small_Dataset\\s05\\BehavioralData_s05\\s05_outdoor_Barrier_run011.tsv\n",
      "Loaded behavioral data from: C:\\Users\\sdabiri\\OneDrive - Georgia Institute of Technology\\BMED 8803 - Stat ML for Neural data\\Project\\Small_Dataset\\s05\\BehavioralData_s05\\s05_outdoor_Barrier_run012.tsv\n",
      "Loaded behavioral data from: C:\\Users\\sdabiri\\OneDrive - Georgia Institute of Technology\\BMED 8803 - Stat ML for Neural data\\Project\\Small_Dataset\\s05\\BehavioralData_s05\\s05_indoor_NoBarrier_run001.tsv\n",
      "Loaded behavioral data from: C:\\Users\\sdabiri\\OneDrive - Georgia Institute of Technology\\BMED 8803 - Stat ML for Neural data\\Project\\Small_Dataset\\s05\\BehavioralData_s05\\s05_indoor_NoBarrier_run002.tsv\n",
      "Loaded behavioral data from: C:\\Users\\sdabiri\\OneDrive - Georgia Institute of Technology\\BMED 8803 - Stat ML for Neural data\\Project\\Small_Dataset\\s05\\BehavioralData_s05\\s05_indoor_NoBarrier_run003.tsv\n",
      "Loaded behavioral data from: C:\\Users\\sdabiri\\OneDrive - Georgia Institute of Technology\\BMED 8803 - Stat ML for Neural data\\Project\\Small_Dataset\\s05\\BehavioralData_s05\\s05_indoor_NoBarrier_run004.tsv\n",
      "Loaded behavioral data from: C:\\Users\\sdabiri\\OneDrive - Georgia Institute of Technology\\BMED 8803 - Stat ML for Neural data\\Project\\Small_Dataset\\s05\\BehavioralData_s05\\s05_indoor_NoBarrier_run005.tsv\n",
      "Loaded behavioral data from: C:\\Users\\sdabiri\\OneDrive - Georgia Institute of Technology\\BMED 8803 - Stat ML for Neural data\\Project\\Small_Dataset\\s05\\BehavioralData_s05\\s05_indoor_NoBarrier_run006.tsv\n",
      "Loaded behavioral data from: C:\\Users\\sdabiri\\OneDrive - Georgia Institute of Technology\\BMED 8803 - Stat ML for Neural data\\Project\\Small_Dataset\\s05\\BehavioralData_s05\\s05_outdoor_Barrier_run007.tsv\n",
      "Loaded behavioral data from: C:\\Users\\sdabiri\\OneDrive - Georgia Institute of Technology\\BMED 8803 - Stat ML for Neural data\\Project\\Small_Dataset\\s05\\BehavioralData_s05\\s05_outdoor_Barrier_run008.tsv\n",
      "Loaded behavioral data from: C:\\Users\\sdabiri\\OneDrive - Georgia Institute of Technology\\BMED 8803 - Stat ML for Neural data\\Project\\Small_Dataset\\s05\\BehavioralData_s05\\s05_outdoor_Barrier_run009.tsv\n",
      "Loaded behavioral data from: C:\\Users\\sdabiri\\OneDrive - Georgia Institute of Technology\\BMED 8803 - Stat ML for Neural data\\Project\\Small_Dataset\\s05\\BehavioralData_s05\\s05_outdoor_Barrier_run010.tsv\n",
      "Loaded behavioral data from: C:\\Users\\sdabiri\\OneDrive - Georgia Institute of Technology\\BMED 8803 - Stat ML for Neural data\\Project\\Small_Dataset\\s05\\BehavioralData_s05\\s05_outdoor_Barrier_run011.tsv\n",
      "Loaded behavioral data from: C:\\Users\\sdabiri\\OneDrive - Georgia Institute of Technology\\BMED 8803 - Stat ML for Neural data\\Project\\Small_Dataset\\s05\\BehavioralData_s05\\s05_outdoor_Barrier_run012.tsv\n"
     ]
    }
   ],
   "source": [
    "# Load and preprocess data for subject\n",
    "run_dirs = [os.path.join(data_dir, d) for d in os.listdir(data_dir) if d.startswith('run')]\n",
    "dataset = BrainDataset(run_dirs, behavioral_dir, time_interval)\n",
    "train_loader = DataLoader(dataset, batch_size=4, shuffle=True)"
   ]
  },
  {
   "cell_type": "markdown",
   "id": "7fc58560-1240-4659-af55-6b70655b8d7e",
   "metadata": {},
   "source": [
    "## 3. Set up cross-validation: "
   ]
  },
  {
   "cell_type": "code",
   "execution_count": null,
   "id": "ac342d28-5e40-4f1a-94fb-873921d05a47",
   "metadata": {},
   "outputs": [],
   "source": []
  },
  {
   "cell_type": "markdown",
   "id": "58ae4f5b-e818-4943-bd34-349f6639ccd5",
   "metadata": {},
   "source": [
    "## 4. Build and train the CNN:"
   ]
  },
  {
   "cell_type": "code",
   "execution_count": 25,
   "id": "de4f96e2-3ca5-44ef-90a3-cfb5e88ca900",
   "metadata": {},
   "outputs": [],
   "source": [
    "# Initialize CNN model, loss function, and optimizer\n",
    "model = GridCellCNN()\n",
    "criterion = nn.MSELoss()  # Mean squared error for regression\n",
    "optimizer = optim.Adam(model.parameters(), lr=0.001)"
   ]
  },
  {
   "cell_type": "code",
   "execution_count": 26,
   "id": "56ea9fde-d644-4260-b8fb-8514612d13f9",
   "metadata": {},
   "outputs": [
    {
     "ename": "RuntimeError",
     "evalue": "shape '[-1, 110592]' is invalid for input of size 737280",
     "output_type": "error",
     "traceback": [
      "\u001b[1;31m---------------------------------------------------------------------------\u001b[0m",
      "\u001b[1;31mRuntimeError\u001b[0m                              Traceback (most recent call last)",
      "Cell \u001b[1;32mIn[26], line 2\u001b[0m\n\u001b[0;32m      1\u001b[0m \u001b[38;5;66;03m# Train the model\u001b[39;00m\n\u001b[1;32m----> 2\u001b[0m train_model(model, train_loader, criterion, optimizer)\n",
      "Cell \u001b[1;32mIn[23], line 8\u001b[0m, in \u001b[0;36mtrain_model\u001b[1;34m(model, train_loader, criterion, optimizer, num_epochs)\u001b[0m\n\u001b[0;32m      6\u001b[0m \u001b[38;5;28;01mfor\u001b[39;00m images, labels \u001b[38;5;129;01min\u001b[39;00m train_loader:\n\u001b[0;32m      7\u001b[0m     optimizer\u001b[38;5;241m.\u001b[39mzero_grad()\n\u001b[1;32m----> 8\u001b[0m     outputs \u001b[38;5;241m=\u001b[39m model(images)\n\u001b[0;32m      9\u001b[0m     loss \u001b[38;5;241m=\u001b[39m criterion(outputs\u001b[38;5;241m.\u001b[39mview(\u001b[38;5;241m-\u001b[39m\u001b[38;5;241m1\u001b[39m), labels)\n\u001b[0;32m     10\u001b[0m     loss\u001b[38;5;241m.\u001b[39mbackward()\n",
      "File \u001b[1;32m~\\AppData\\Local\\anaconda3\\envs\\ML_class\\Lib\\site-packages\\torch\\nn\\modules\\module.py:1553\u001b[0m, in \u001b[0;36mModule._wrapped_call_impl\u001b[1;34m(self, *args, **kwargs)\u001b[0m\n\u001b[0;32m   1551\u001b[0m     \u001b[38;5;28;01mreturn\u001b[39;00m \u001b[38;5;28mself\u001b[39m\u001b[38;5;241m.\u001b[39m_compiled_call_impl(\u001b[38;5;241m*\u001b[39margs, \u001b[38;5;241m*\u001b[39m\u001b[38;5;241m*\u001b[39mkwargs)  \u001b[38;5;66;03m# type: ignore[misc]\u001b[39;00m\n\u001b[0;32m   1552\u001b[0m \u001b[38;5;28;01melse\u001b[39;00m:\n\u001b[1;32m-> 1553\u001b[0m     \u001b[38;5;28;01mreturn\u001b[39;00m \u001b[38;5;28mself\u001b[39m\u001b[38;5;241m.\u001b[39m_call_impl(\u001b[38;5;241m*\u001b[39margs, \u001b[38;5;241m*\u001b[39m\u001b[38;5;241m*\u001b[39mkwargs)\n",
      "File \u001b[1;32m~\\AppData\\Local\\anaconda3\\envs\\ML_class\\Lib\\site-packages\\torch\\nn\\modules\\module.py:1562\u001b[0m, in \u001b[0;36mModule._call_impl\u001b[1;34m(self, *args, **kwargs)\u001b[0m\n\u001b[0;32m   1557\u001b[0m \u001b[38;5;66;03m# If we don't have any hooks, we want to skip the rest of the logic in\u001b[39;00m\n\u001b[0;32m   1558\u001b[0m \u001b[38;5;66;03m# this function, and just call forward.\u001b[39;00m\n\u001b[0;32m   1559\u001b[0m \u001b[38;5;28;01mif\u001b[39;00m \u001b[38;5;129;01mnot\u001b[39;00m (\u001b[38;5;28mself\u001b[39m\u001b[38;5;241m.\u001b[39m_backward_hooks \u001b[38;5;129;01mor\u001b[39;00m \u001b[38;5;28mself\u001b[39m\u001b[38;5;241m.\u001b[39m_backward_pre_hooks \u001b[38;5;129;01mor\u001b[39;00m \u001b[38;5;28mself\u001b[39m\u001b[38;5;241m.\u001b[39m_forward_hooks \u001b[38;5;129;01mor\u001b[39;00m \u001b[38;5;28mself\u001b[39m\u001b[38;5;241m.\u001b[39m_forward_pre_hooks\n\u001b[0;32m   1560\u001b[0m         \u001b[38;5;129;01mor\u001b[39;00m _global_backward_pre_hooks \u001b[38;5;129;01mor\u001b[39;00m _global_backward_hooks\n\u001b[0;32m   1561\u001b[0m         \u001b[38;5;129;01mor\u001b[39;00m _global_forward_hooks \u001b[38;5;129;01mor\u001b[39;00m _global_forward_pre_hooks):\n\u001b[1;32m-> 1562\u001b[0m     \u001b[38;5;28;01mreturn\u001b[39;00m forward_call(\u001b[38;5;241m*\u001b[39margs, \u001b[38;5;241m*\u001b[39m\u001b[38;5;241m*\u001b[39mkwargs)\n\u001b[0;32m   1564\u001b[0m \u001b[38;5;28;01mtry\u001b[39;00m:\n\u001b[0;32m   1565\u001b[0m     result \u001b[38;5;241m=\u001b[39m \u001b[38;5;28;01mNone\u001b[39;00m\n",
      "Cell \u001b[1;32mIn[22], line 14\u001b[0m, in \u001b[0;36mGridCellCNN.forward\u001b[1;34m(self, x)\u001b[0m\n\u001b[0;32m     12\u001b[0m x \u001b[38;5;241m=\u001b[39m \u001b[38;5;28mself\u001b[39m\u001b[38;5;241m.\u001b[39mpool(torch\u001b[38;5;241m.\u001b[39mrelu(\u001b[38;5;28mself\u001b[39m\u001b[38;5;241m.\u001b[39mconv1(x)))\n\u001b[0;32m     13\u001b[0m x \u001b[38;5;241m=\u001b[39m \u001b[38;5;28mself\u001b[39m\u001b[38;5;241m.\u001b[39mpool(torch\u001b[38;5;241m.\u001b[39mrelu(\u001b[38;5;28mself\u001b[39m\u001b[38;5;241m.\u001b[39mconv2(x)))\n\u001b[1;32m---> 14\u001b[0m x \u001b[38;5;241m=\u001b[39m x\u001b[38;5;241m.\u001b[39mview(\u001b[38;5;241m-\u001b[39m\u001b[38;5;241m1\u001b[39m, \u001b[38;5;241m64\u001b[39m \u001b[38;5;241m*\u001b[39m \u001b[38;5;241m12\u001b[39m \u001b[38;5;241m*\u001b[39m \u001b[38;5;241m12\u001b[39m \u001b[38;5;241m*\u001b[39m \u001b[38;5;241m12\u001b[39m)  \u001b[38;5;66;03m# Flatten\u001b[39;00m\n\u001b[0;32m     15\u001b[0m x \u001b[38;5;241m=\u001b[39m torch\u001b[38;5;241m.\u001b[39mrelu(\u001b[38;5;28mself\u001b[39m\u001b[38;5;241m.\u001b[39mfc1(x))\n\u001b[0;32m     16\u001b[0m x \u001b[38;5;241m=\u001b[39m \u001b[38;5;28mself\u001b[39m\u001b[38;5;241m.\u001b[39mfc2(x)\n",
      "\u001b[1;31mRuntimeError\u001b[0m: shape '[-1, 110592]' is invalid for input of size 737280"
     ]
    }
   ],
   "source": [
    "# Train the model\n",
    "train_model(model, train_loader, criterion, optimizer)"
   ]
  },
  {
   "cell_type": "code",
   "execution_count": null,
   "id": "41c05f51-0633-4851-ad77-d44efc5b2c54",
   "metadata": {},
   "outputs": [],
   "source": [
    "# External cross-validation (for future use on all subjects)\n",
    "def cross_validate_subjects(subject_ids, data_dir):\n",
    "    kf = KFold(n_splits=5, shuffle=True, random_state=42)\n",
    "    for train_idx, test_idx in kf.split(subject_ids):\n",
    "        train_subjects = [subject_ids[i] for i in train_idx]\n",
    "        test_subjects = [subject_ids[i] for i in test_idx]\n",
    "        print(f\"Train on {train_subjects}, Test on {test_subjects}\")\n",
    "        # Implement training/testing for each fold"
   ]
  },
  {
   "cell_type": "code",
   "execution_count": null,
   "id": "e8ea5c7a-6b77-45eb-87b4-77d4f97d22c3",
   "metadata": {},
   "outputs": [],
   "source": []
  }
 ],
 "metadata": {
  "kernelspec": {
   "display_name": "Python 3 (ipykernel)",
   "language": "python",
   "name": "python3"
  },
  "language_info": {
   "codemirror_mode": {
    "name": "ipython",
    "version": 3
   },
   "file_extension": ".py",
   "mimetype": "text/x-python",
   "name": "python",
   "nbconvert_exporter": "python",
   "pygments_lexer": "ipython3",
   "version": "3.11.9"
  }
 },
 "nbformat": 4,
 "nbformat_minor": 5
}
