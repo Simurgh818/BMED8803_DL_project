{
 "cells": [
  {
   "cell_type": "markdown",
   "id": "e5c94dc5-4031-4c50-9784-8badf9853be6",
   "metadata": {},
   "source": [
    "# This notebook performs the preporcessing steps of DICOM to NIFTI conversion.\n",
    "\n",
    "### Sina Dabiri"
   ]
  },
  {
   "cell_type": "code",
   "execution_count": 1,
   "id": "5e5d7e68-4834-4c1c-a42c-e5454307cb47",
   "metadata": {},
   "outputs": [],
   "source": [
    "import numpy as np\n",
    "import matplotlib\n",
    "from matplotlib import pyplot as plt\n",
    "import seaborn as sns\n",
    "import pandas as pd\n",
    "import os"
   ]
  },
  {
   "cell_type": "markdown",
   "id": "a687866d-18e8-4115-9ce0-bbe62ff9c80b",
   "metadata": {},
   "source": [
    "## 1. Convert image file formats from DICOM to NIFTI "
   ]
  },
  {
   "cell_type": "code",
   "execution_count": 2,
   "id": "f5f4eaa6-93b8-4173-9474-87db3c570ddc",
   "metadata": {},
   "outputs": [
    {
     "name": "stdout",
     "output_type": "stream",
     "text": [
      "Collecting pydicom\n",
      "  Downloading pydicom-3.0.1-py3-none-any.whl.metadata (9.4 kB)\n",
      "Collecting nibabel\n",
      "  Downloading nibabel-5.3.2-py3-none-any.whl.metadata (9.1 kB)\n",
      "Collecting dicom2nifti\n",
      "  Downloading dicom2nifti-2.5.0-py3-none-any.whl.metadata (1.3 kB)\n",
      "Collecting importlib-resources>=5.12 (from nibabel)\n",
      "  Downloading importlib_resources-6.4.5-py3-none-any.whl.metadata (4.0 kB)\n",
      "Requirement already satisfied: numpy>=1.22 in c:\\users\\sdabiri\\appdata\\local\\anaconda3\\envs\\bmed8803_project\\lib\\site-packages (from nibabel) (1.26.4)\n",
      "Requirement already satisfied: packaging>=20 in c:\\users\\sdabiri\\appdata\\local\\anaconda3\\envs\\bmed8803_project\\lib\\site-packages (from nibabel) (24.1)\n",
      "Requirement already satisfied: typing-extensions>=4.6 in c:\\users\\sdabiri\\appdata\\local\\anaconda3\\envs\\bmed8803_project\\lib\\site-packages (from nibabel) (4.11.0)\n",
      "Collecting scipy (from dicom2nifti)\n",
      "  Downloading scipy-1.14.1-cp311-cp311-win_amd64.whl.metadata (60 kB)\n",
      "Collecting python-gdcm (from dicom2nifti)\n",
      "  Downloading python_gdcm-3.0.24.1-cp311-cp311-win_amd64.whl.metadata (3.8 kB)\n",
      "Downloading pydicom-3.0.1-py3-none-any.whl (2.4 MB)\n",
      "   ---------------------------------------- 0.0/2.4 MB ? eta -:--:--\n",
      "   ---------------------------------------- 2.4/2.4 MB 66.1 MB/s eta 0:00:00\n",
      "Downloading nibabel-5.3.2-py3-none-any.whl (3.3 MB)\n",
      "   ---------------------------------------- 0.0/3.3 MB ? eta -:--:--\n",
      "   ---------------------------------------- 3.3/3.3 MB 64.5 MB/s eta 0:00:00\n",
      "Downloading dicom2nifti-2.5.0-py3-none-any.whl (43 kB)\n",
      "Downloading importlib_resources-6.4.5-py3-none-any.whl (36 kB)\n",
      "Downloading python_gdcm-3.0.24.1-cp311-cp311-win_amd64.whl (28.9 MB)\n",
      "   ---------------------------------------- 0.0/28.9 MB ? eta -:--:--\n",
      "   ------------------ --------------------- 13.1/28.9 MB 68.3 MB/s eta 0:00:01\n",
      "   ------------------------------------- -- 27.3/28.9 MB 66.5 MB/s eta 0:00:01\n",
      "   ---------------------------------------- 28.9/28.9 MB 61.0 MB/s eta 0:00:00\n",
      "Downloading scipy-1.14.1-cp311-cp311-win_amd64.whl (44.8 MB)\n",
      "   ---------------------------------------- 0.0/44.8 MB ? eta -:--:--\n",
      "   ------------------ --------------------- 21.2/44.8 MB 102.8 MB/s eta 0:00:01\n",
      "   ---------------------------------------  44.6/44.8 MB 113.3 MB/s eta 0:00:01\n",
      "   ---------------------------------------- 44.8/44.8 MB 89.0 MB/s eta 0:00:00\n",
      "Installing collected packages: scipy, python-gdcm, pydicom, importlib-resources, nibabel, dicom2nifti\n",
      "Successfully installed dicom2nifti-2.5.0 importlib-resources-6.4.5 nibabel-5.3.2 pydicom-3.0.1 python-gdcm-3.0.24.1 scipy-1.14.1\n"
     ]
    }
   ],
   "source": [
    "!pip install pydicom nibabel dicom2nifti"
   ]
  },
  {
   "cell_type": "code",
   "execution_count": 3,
   "id": "5e9cc298-004d-4f2d-a9cf-9d91c6f2eb7f",
   "metadata": {},
   "outputs": [],
   "source": [
    "import pydicom\n",
    "import nibabel as nib\n",
    "import dicom2nifti"
   ]
  },
  {
   "cell_type": "code",
   "execution_count": 4,
   "id": "547e0747-a11c-4f61-8422-416f45661dbb",
   "metadata": {},
   "outputs": [
    {
     "data": {
      "text/plain": [
       "'C:\\\\Users\\\\sdabiri\\\\OneDrive - Georgia Institute of Technology\\\\BMED 8803 - Stat ML for Neural data\\\\Project\\\\BMED8803_DL_project'"
      ]
     },
     "execution_count": 4,
     "metadata": {},
     "output_type": "execute_result"
    }
   ],
   "source": [
    "pwd"
   ]
  },
  {
   "cell_type": "markdown",
   "id": "1362a1c7-ae80-4c0f-8c2e-e18215e4ec15",
   "metadata": {},
   "source": [
    "dicom_directory = \"C:/Users/sinad/OneDrive - Georgia Institute of Technology/BMED 8803 - Stat ML for Neural data/Project/Small_Dataset/s05/ImagingData_s05/run001_8/\"\n",
    "output_file = \"C:/Users/sinad/OneDrive - Georgia Institute of Technology/BMED 8803 - Stat ML for Neural data/Project/preprocessed/s05/run001_8/\"\n",
    "\n",
    "dicom2nifti.convert_directory(dicom_directory, os.path.dirname(output_file))\n",
    "\n",
    "# The NIfTI file will be saved in the specified output directory"
   ]
  },
  {
   "cell_type": "code",
   "execution_count": 8,
   "id": "02655fd5-ebae-4dff-8d18-72fd48b92557",
   "metadata": {},
   "outputs": [
    {
     "name": "stdout",
     "output_type": "stream",
     "text": [
      "Conversion successful for C:\\Users\\sdabiri\\OneDrive - Georgia Institute of Technology\\BMED 8803 - Stat ML for Neural data\\Project\\Small_Dataset\\s14\\ImagingData_s14\\run001_8\n",
      "Conversion successful for C:\\Users\\sdabiri\\OneDrive - Georgia Institute of Technology\\BMED 8803 - Stat ML for Neural data\\Project\\Small_Dataset\\s14\\ImagingData_s14\\run002_10\n",
      "Conversion successful for C:\\Users\\sdabiri\\OneDrive - Georgia Institute of Technology\\BMED 8803 - Stat ML for Neural data\\Project\\Small_Dataset\\s14\\ImagingData_s14\\run003_12\n",
      "Conversion successful for C:\\Users\\sdabiri\\OneDrive - Georgia Institute of Technology\\BMED 8803 - Stat ML for Neural data\\Project\\Small_Dataset\\s14\\ImagingData_s14\\run004_14\n",
      "Conversion successful for C:\\Users\\sdabiri\\OneDrive - Georgia Institute of Technology\\BMED 8803 - Stat ML for Neural data\\Project\\Small_Dataset\\s14\\ImagingData_s14\\run005_16\n",
      "Conversion successful for C:\\Users\\sdabiri\\OneDrive - Georgia Institute of Technology\\BMED 8803 - Stat ML for Neural data\\Project\\Small_Dataset\\s14\\ImagingData_s14\\run006_18\n",
      "Conversion successful for C:\\Users\\sdabiri\\OneDrive - Georgia Institute of Technology\\BMED 8803 - Stat ML for Neural data\\Project\\Small_Dataset\\s14\\ImagingData_s14\\run007_20\n",
      "Conversion successful for C:\\Users\\sdabiri\\OneDrive - Georgia Institute of Technology\\BMED 8803 - Stat ML for Neural data\\Project\\Small_Dataset\\s14\\ImagingData_s14\\run008_23\n",
      "Conversion successful for C:\\Users\\sdabiri\\OneDrive - Georgia Institute of Technology\\BMED 8803 - Stat ML for Neural data\\Project\\Small_Dataset\\s14\\ImagingData_s14\\run009_25\n",
      "Conversion successful for C:\\Users\\sdabiri\\OneDrive - Georgia Institute of Technology\\BMED 8803 - Stat ML for Neural data\\Project\\Small_Dataset\\s14\\ImagingData_s14\\run010_27\n",
      "Conversion successful for C:\\Users\\sdabiri\\OneDrive - Georgia Institute of Technology\\BMED 8803 - Stat ML for Neural data\\Project\\Small_Dataset\\s14\\ImagingData_s14\\run011_29\n",
      "Conversion successful for C:\\Users\\sdabiri\\OneDrive - Georgia Institute of Technology\\BMED 8803 - Stat ML for Neural data\\Project\\Small_Dataset\\s14\\ImagingData_s14\\run012_31\n",
      "Conversion successful for C:\\Users\\sdabiri\\OneDrive - Georgia Institute of Technology\\BMED 8803 - Stat ML for Neural data\\Project\\Small_Dataset\\s14\\ImagingData_s14\\T1_MEMPRAGERMS_3\n"
     ]
    }
   ],
   "source": [
    "import shutil\n",
    "\n",
    "# Define the base directory containing subfolders with DICOM files\n",
    "base_dicom_directory = os.path.abspath(\"C:/Users/sdabiri/OneDrive - Georgia Institute of Technology/BMED 8803 - Stat ML for Neural data/Project/Small_Dataset/s14/ImagingData_s14\")\n",
    "# Define the base directory where you want to save the NIFTI files\n",
    "output_base_directory = os.path.abspath(\"C:/Users/sdabiri/OneDrive - Georgia Institute of Technology/BMED 8803 - Stat ML for Neural data/Project/preprocessed/s14/\")\n",
    "\n",
    "# Iterate through each subfolder in the base DICOM directory\n",
    "for subfolder in os.listdir(base_dicom_directory):\n",
    "    dicom_directory = os.path.join(base_dicom_directory, subfolder)\n",
    "\n",
    "    # Make sure the path is a directory before proceeding\n",
    "    if os.path.isdir(dicom_directory):\n",
    "        output_directory = os.path.join(output_base_directory, subfolder)\n",
    "\n",
    "        # Create the output directory if it doesn't exist\n",
    "        os.makedirs(output_directory, exist_ok=True)\n",
    "\n",
    "        try:\n",
    "            # Convert the DICOM files in the subfolder to NIFTI format\n",
    "            dicom2nifti.convert_directory(dicom_directory, output_directory, compression=False)\n",
    "            print(f\"Conversion successful for {dicom_directory}\")\n",
    "        except Exception as e:\n",
    "            print(f\"Failed to convert {dicom_directory}. Error: {str(e)}\")\n"
   ]
  },
  {
   "cell_type": "code",
   "execution_count": 11,
   "id": "223da93c-1b42-437b-821e-8c77d4561981",
   "metadata": {},
   "outputs": [
    {
     "name": "stdout",
     "output_type": "stream",
     "text": [
      "['8_run001.nii']\n"
     ]
    }
   ],
   "source": [
    "import os\n",
    "\n",
    "output_directory = \"C:/Users/sdabiri/OneDrive - Georgia Institute of Technology/BMED 8803 - Stat ML for Neural data/Project/preprocessed/s14/run001_8/\"\n",
    "files_in_output = os.listdir(output_directory)\n",
    "print(files_in_output)\n"
   ]
  },
  {
   "cell_type": "code",
   "execution_count": 12,
   "id": "f0179439-8003-4c7e-9c2b-c4dc263dc8ad",
   "metadata": {},
   "outputs": [
    {
     "name": "stdout",
     "output_type": "stream",
     "text": [
      "(96, 96, 20, 328)\n",
      "<class 'nibabel.nifti1.Nifti1Header'> object, endian='<'\n",
      "sizeof_hdr      : 348\n",
      "data_type       : b''\n",
      "db_name         : b''\n",
      "extents         : 0\n",
      "session_error   : 0\n",
      "regular         : b''\n",
      "dim_info        : 0\n",
      "dim             : [  4  96  96  20 328   1   1   1]\n",
      "intent_p1       : 0.0\n",
      "intent_p2       : 0.0\n",
      "intent_p3       : 0.0\n",
      "intent_code     : none\n",
      "datatype        : uint16\n",
      "bitpix          : 16\n",
      "slice_start     : 0\n",
      "pixdim          : [-1.  2.  2.  2.  1.  1.  1.  1.]\n",
      "vox_offset      : 0.0\n",
      "scl_slope       : nan\n",
      "scl_inter       : nan\n",
      "slice_end       : 0\n",
      "slice_code      : unknown\n",
      "xyzt_units      : 2\n",
      "cal_max         : 0.0\n",
      "cal_min         : 0.0\n",
      "slice_duration  : 0.0\n",
      "toffset         : 0.0\n",
      "glmax           : 0\n",
      "glmin           : 0\n",
      "descrip         : b''\n",
      "aux_file        : b''\n",
      "qform_code      : unknown\n",
      "sform_code      : aligned\n",
      "quatern_b       : -0.001846875\n",
      "quatern_c       : 0.9799252\n",
      "quatern_d       : -0.19914974\n",
      "qoffset_x       : 99.34811\n",
      "qoffset_y       : -87.06217\n",
      "qoffset_z       : 2.7903538\n",
      "srow_x          : [-1.9996560e+00  1.3408837e-07 -3.7092667e-02  9.9348106e+01]\n",
      "srow_y          : [-1.4478528e-02  1.8413439e+00  7.8054029e-01 -8.7062172e+01]\n",
      "srow_z          : [-0.03415023 -0.7806746   1.8410271   2.7903538 ]\n",
      "intent_name     : b''\n",
      "magic           : b'n+1'\n"
     ]
    }
   ],
   "source": [
    "output_file = \"C:/Users/sdabiri/OneDrive - Georgia Institute of Technology/BMED 8803 - Stat ML for Neural data/Project/preprocessed/s05/run001_8/\"\n",
    "nifti_file = output_file + files_in_output[0]  # Replace with correct file name\n",
    "nifti_image = nib.load(nifti_file)\n",
    "print(nifti_image.shape)\n",
    "print(nifti_image.header)\n"
   ]
  },
  {
   "cell_type": "code",
   "execution_count": 13,
   "id": "679615c8-23a8-48ee-adec-9b8ecff9877e",
   "metadata": {},
   "outputs": [
    {
     "name": "stdout",
     "output_type": "stream",
     "text": [
      "(('image', '.nii'),)\n"
     ]
    }
   ],
   "source": [
    "print(nifti_image.files_types)"
   ]
  },
  {
   "cell_type": "markdown",
   "id": "0f62062b-892b-431c-8510-1987ec144589",
   "metadata": {},
   "source": [
    "## 2. Gaussian Filter"
   ]
  },
  {
   "cell_type": "code",
   "execution_count": 14,
   "id": "d645f5ad-153e-4f4b-a509-a51893271ac7",
   "metadata": {},
   "outputs": [
    {
     "name": "stdout",
     "output_type": "stream",
     "text": [
      "Image shape: (96, 96, 20, 328)\n"
     ]
    },
    {
     "data": {
      "image/png": "[encoded data removed]",
      "text/plain": [
       "<Figure size 640x480 with 1 Axes>"
      ]
     },
     "metadata": {},
     "output_type": "display_data"
    }
   ],
   "source": [
    "# Display the image for one of the runs:\n",
    "# Get the image data as a numpy array\n",
    "image_data = nifti_image.get_fdata()\n",
    "\n",
    "# Print the shape of the image to understand its dimensions\n",
    "print(f\"Image shape: {image_data.shape}\")\n",
    "\n",
    "# Select a single 3D volume (e.g., first volume, index 0)\n",
    "volume_index = 0\n",
    "volume_data = image_data[:, :, :, volume_index]\n",
    "\n",
    "# Display a middle slice of the 3D volume (along the third axis)\n",
    "slice_index = volume_data.shape[2] // 2  # Take the middle slice along the third dimension\n",
    "\n",
    "plt.imshow(volume_data[:, :, slice_index], cmap=\"gray\")\n",
    "plt.title(f\"Slice {slice_index} of Volume {volume_index}\")\n",
    "plt.axis('off')  # Turn off the axis labels\n",
    "plt.show()"
   ]
  },
  {
   "cell_type": "code",
   "execution_count": 15,
   "id": "6933517e-4b0e-46ab-b462-3cf01c2b8e8f",
   "metadata": {},
   "outputs": [
    {
     "name": "stdout",
     "output_type": "stream",
     "text": [
      "Collecting nilearn\n",
      "  Downloading nilearn-0.10.4-py3-none-any.whl.metadata (7.8 kB)\n",
      "Collecting joblib>=1.0.0 (from nilearn)\n",
      "  Downloading joblib-1.4.2-py3-none-any.whl.metadata (5.4 kB)\n",
      "Collecting lxml (from nilearn)\n",
      "  Downloading lxml-5.3.0-cp311-cp311-win_amd64.whl.metadata (3.9 kB)\n",
      "Requirement already satisfied: nibabel>=4.0.0 in c:\\users\\sdabiri\\appdata\\local\\anaconda3\\envs\\bmed8803_project\\lib\\site-packages (from nilearn) (5.3.2)\n",
      "Requirement already satisfied: numpy>=1.19.0 in c:\\users\\sdabiri\\appdata\\local\\anaconda3\\envs\\bmed8803_project\\lib\\site-packages (from nilearn) (1.26.4)\n",
      "Requirement already satisfied: packaging in c:\\users\\sdabiri\\appdata\\local\\anaconda3\\envs\\bmed8803_project\\lib\\site-packages (from nilearn) (24.1)\n",
      "Requirement already satisfied: pandas>=1.1.5 in c:\\users\\sdabiri\\appdata\\local\\anaconda3\\envs\\bmed8803_project\\lib\\site-packages (from nilearn) (2.2.2)\n",
      "Requirement already satisfied: requests>=2.25.0 in c:\\users\\sdabiri\\appdata\\local\\anaconda3\\envs\\bmed8803_project\\lib\\site-packages (from nilearn) (2.32.3)\n",
      "Collecting scikit-learn>=1.0.0 (from nilearn)\n",
      "  Downloading scikit_learn-1.5.2-cp311-cp311-win_amd64.whl.metadata (13 kB)\n",
      "Requirement already satisfied: scipy>=1.8.0 in c:\\users\\sdabiri\\appdata\\local\\anaconda3\\envs\\bmed8803_project\\lib\\site-packages (from nilearn) (1.14.1)\n",
      "Requirement already satisfied: importlib-resources>=5.12 in c:\\users\\sdabiri\\appdata\\local\\anaconda3\\envs\\bmed8803_project\\lib\\site-packages (from nibabel>=4.0.0->nilearn) (6.4.5)\n",
      "Requirement already satisfied: typing-extensions>=4.6 in c:\\users\\sdabiri\\appdata\\local\\anaconda3\\envs\\bmed8803_project\\lib\\site-packages (from nibabel>=4.0.0->nilearn) (4.11.0)\n",
      "Requirement already satisfied: python-dateutil>=2.8.2 in c:\\users\\sdabiri\\appdata\\local\\anaconda3\\envs\\bmed8803_project\\lib\\site-packages (from pandas>=1.1.5->nilearn) (2.9.0.post0)\n",
      "Requirement already satisfied: pytz>=2020.1 in c:\\users\\sdabiri\\appdata\\local\\anaconda3\\envs\\bmed8803_project\\lib\\site-packages (from pandas>=1.1.5->nilearn) (2024.1)\n",
      "Requirement already satisfied: tzdata>=2022.7 in c:\\users\\sdabiri\\appdata\\local\\anaconda3\\envs\\bmed8803_project\\lib\\site-packages (from pandas>=1.1.5->nilearn) (2023.3)\n",
      "Requirement already satisfied: charset-normalizer<4,>=2 in c:\\users\\sdabiri\\appdata\\local\\anaconda3\\envs\\bmed8803_project\\lib\\site-packages (from requests>=2.25.0->nilearn) (3.3.2)\n",
      "Requirement already satisfied: idna<4,>=2.5 in c:\\users\\sdabiri\\appdata\\local\\anaconda3\\envs\\bmed8803_project\\lib\\site-packages (from requests>=2.25.0->nilearn) (3.7)\n",
      "Requirement already satisfied: urllib3<3,>=1.21.1 in c:\\users\\sdabiri\\appdata\\local\\anaconda3\\envs\\bmed8803_project\\lib\\site-packages (from requests>=2.25.0->nilearn) (2.2.3)\n",
      "Requirement already satisfied: certifi>=2017.4.17 in c:\\users\\sdabiri\\appdata\\local\\anaconda3\\envs\\bmed8803_project\\lib\\site-packages (from requests>=2.25.0->nilearn) (2024.8.30)\n",
      "Collecting threadpoolctl>=3.1.0 (from scikit-learn>=1.0.0->nilearn)\n",
      "  Downloading threadpoolctl-3.5.0-py3-none-any.whl.metadata (13 kB)\n",
      "Requirement already satisfied: six>=1.5 in c:\\users\\sdabiri\\appdata\\local\\anaconda3\\envs\\bmed8803_project\\lib\\site-packages (from python-dateutil>=2.8.2->pandas>=1.1.5->nilearn) (1.16.0)\n",
      "Downloading nilearn-0.10.4-py3-none-any.whl (10.4 MB)\n",
      "   ---------------------------------------- 0.0/10.4 MB ? eta -:--:--\n",
      "   ---------------------------------------- 10.4/10.4 MB 81.1 MB/s eta 0:00:00\n",
      "Downloading joblib-1.4.2-py3-none-any.whl (301 kB)\n",
      "Downloading scikit_learn-1.5.2-cp311-cp311-win_amd64.whl (11.0 MB)\n",
      "   ---------------------------------------- 0.0/11.0 MB ? eta -:--:--\n",
      "   ---------------------------------------- 11.0/11.0 MB 97.8 MB/s eta 0:00:00\n",
      "Downloading lxml-5.3.0-cp311-cp311-win_amd64.whl (3.8 MB)\n",
      "   ---------------------------------------- 0.0/3.8 MB ? eta -:--:--\n",
      "   ---------------------------------------- 3.8/3.8 MB 75.6 MB/s eta 0:00:00\n",
      "Downloading threadpoolctl-3.5.0-py3-none-any.whl (18 kB)\n",
      "Installing collected packages: threadpoolctl, lxml, joblib, scikit-learn, nilearn\n",
      "Successfully installed joblib-1.4.2 lxml-5.3.0 nilearn-0.10.4 scikit-learn-1.5.2 threadpoolctl-3.5.0\n"
     ]
    }
   ],
   "source": [
    "!pip install nilearn"
   ]
  },
  {
   "cell_type": "code",
   "execution_count": 16,
   "id": "bba7e3e9-490d-4928-b1d0-28e94c6efd58",
   "metadata": {},
   "outputs": [
    {
     "data": {
      "image/png": "[encoded data removed]",
      "text/plain": [
       "<Figure size 660x350 with 4 Axes>"
      ]
     },
     "metadata": {},
     "output_type": "display_data"
    }
   ],
   "source": [
    "from nilearn import plotting\n",
    "\n",
    "# Get the data and extract a specific 3D volume (e.g., the first volume)\n",
    "image_data = nifti_image.slicer[:, :, :, 0]  # Extracting the first volume\n",
    "\n",
    "# Plot the first volume\n",
    "plotting.plot_anat(image_data, title=\"First Volume\")\n",
    "plotting.show()\n"
   ]
  },
  {
   "cell_type": "code",
   "execution_count": 17,
   "id": "cee1a5cf-f45b-49f7-b9d5-6979b167ebb4",
   "metadata": {},
   "outputs": [
    {
     "data": {
      "image/png": "[encoded data removed]",
      "text/plain": [
       "<Figure size 660x350 with 4 Axes>"
      ]
     },
     "metadata": {},
     "output_type": "display_data"
    }
   ],
   "source": [
    "import nibabel as nib\n",
    "\n",
    "# Load the 4D NIFTI image\n",
    "nifti_image = nib.load(nifti_file)\n",
    "\n",
    "# Get the data and extract a specific 3D volume (e.g., the first volume)\n",
    "image_data = nifti_image.slicer[:, :, :, 100]  # Extracting the first volume\n",
    "\n",
    "# Plot the first volume\n",
    "plotting.plot_anat(image_data, title=\"First Volume\")\n",
    "plotting.show()\n",
    "\n"
   ]
  },
  {
   "cell_type": "code",
   "execution_count": 18,
   "id": "3d5bd2ae-0b80-41ba-b401-71bb389c69e8",
   "metadata": {},
   "outputs": [
    {
     "ename": "ModuleNotFoundError",
     "evalue": "No module named 'ipywidgets'",
     "output_type": "error",
     "traceback": [
      "\u001b[1;31m---------------------------------------------------------------------------\u001b[0m",
      "\u001b[1;31mModuleNotFoundError\u001b[0m                       Traceback (most recent call last)",
      "Cell \u001b[1;32mIn[18], line 4\u001b[0m\n\u001b[0;32m      2\u001b[0m \u001b[38;5;28;01mimport\u001b[39;00m \u001b[38;5;21;01mmatplotlib\u001b[39;00m\u001b[38;5;21;01m.\u001b[39;00m\u001b[38;5;21;01mpyplot\u001b[39;00m \u001b[38;5;28;01mas\u001b[39;00m \u001b[38;5;21;01mplt\u001b[39;00m\n\u001b[0;32m      3\u001b[0m \u001b[38;5;28;01mimport\u001b[39;00m \u001b[38;5;21;01mnumpy\u001b[39;00m \u001b[38;5;28;01mas\u001b[39;00m \u001b[38;5;21;01mnp\u001b[39;00m\n\u001b[1;32m----> 4\u001b[0m \u001b[38;5;28;01mimport\u001b[39;00m \u001b[38;5;21;01mipywidgets\u001b[39;00m \u001b[38;5;28;01mas\u001b[39;00m \u001b[38;5;21;01mwidgets\u001b[39;00m\n\u001b[0;32m      5\u001b[0m \u001b[38;5;28;01mfrom\u001b[39;00m \u001b[38;5;21;01mIPython\u001b[39;00m\u001b[38;5;21;01m.\u001b[39;00m\u001b[38;5;21;01mdisplay\u001b[39;00m \u001b[38;5;28;01mimport\u001b[39;00m display\n\u001b[0;32m      7\u001b[0m \u001b[38;5;66;03m# Load the 4D NIFTI file (replace with your own file path)\u001b[39;00m\n",
      "\u001b[1;31mModuleNotFoundError\u001b[0m: No module named 'ipywidgets'"
     ]
    }
   ],
   "source": [
    "import nibabel as nib\n",
    "import matplotlib.pyplot as plt\n",
    "import numpy as np\n",
    "import ipywidgets as widgets\n",
    "from IPython.display import display\n",
    "\n",
    "# Load the 4D NIFTI file (replace with your own file path)\n",
    "nifti_path = nifti_file\n",
    "nifti_image = nib.load(nifti_path)\n",
    "image_data = nifti_image.get_fdata()\n",
    "\n",
    "# Extract the dimensions of the 4D image (e.g., 96x96x20x328)\n",
    "x, y, z, t = image_data.shape\n",
    "\n",
    "# Function to display a specific timepoint\n",
    "def plot_volume_at_timepoint(timepoint):\n",
    "    plt.figure(figsize=(8, 6))\n",
    "    plt.title(f\"fMRI Slice at timepoint {timepoint}\")\n",
    "    \n",
    "    # Select the middle slice along the z-axis (axial slice)\n",
    "    slice_index = z // 2\n",
    "    plt.imshow(image_data[:, :, slice_index, timepoint], cmap=\"gray\")\n",
    "    plt.axis(\"off\")\n",
    "    plt.show()\n",
    "\n",
    "# Create a slider for selecting time points\n",
    "time_slider = widgets.IntSlider(min=0, max=t-1, step=1, value=0, description='Timepoint')\n",
    "\n",
    "# Update the plot when the slider is moved\n",
    "widgets.interact(plot_volume_at_timepoint, timepoint=time_slider)\n"
   ]
  },
  {
   "cell_type": "code",
   "execution_count": null,
   "id": "66b5604d-1de9-4211-b3f7-01fb43f1bfde",
   "metadata": {},
   "outputs": [],
   "source": [
    "# Mask visualization\n",
    "mask_path = \"C:/Users/sinad/OneDrive - Georgia Institute of Technology/BMED 8803 - Stat ML for Neural data/Project/Small_Dataset/s05/REC.nii\"\n",
    "mask_image = nib.load(mask_path)"
   ]
  },
  {
   "cell_type": "code",
   "execution_count": null,
   "id": "6bc1882e-35a6-45aa-a7e5-0cc6e3f551aa",
   "metadata": {},
   "outputs": [],
   "source": [
    "mask_data = mask_image.get_fdata()\n",
    "\n",
    "# Print the shape of the image to understand its dimensions\n",
    "print(f\"Image shape: {mask_data.shape}\")\n",
    "\n",
    "z_index = mask_data.shape[2]\n",
    "print(\"z plane:\", z_index)\n",
    "\n",
    "# Display a middle slice of the 3D volume (along the third axis)\n",
    "slice_index = z_index // 2  # Take the middle slice along the third dimension\n",
    "\n",
    "plt.imshow(mask_data[:, :,slice_index], cmap=\"gray\")\n",
    "plt.title(f\"Slice {slice_index}\")\n",
    "plt.axis('off')  # Turn off the axis labels\n",
    "plt.show()"
   ]
  },
  {
   "cell_type": "code",
   "execution_count": null,
   "id": "122dad80-332e-45f5-be30-c0498d6354e2",
   "metadata": {},
   "outputs": [],
   "source": []
  }
 ],
 "metadata": {
  "kernelspec": {
   "display_name": "Python 3 (ipykernel)",
   "language": "python",
   "name": "python3"
  },
  "language_info": {
   "codemirror_mode": {
    "name": "ipython",
    "version": 3
   },
   "file_extension": ".py",
   "mimetype": "text/x-python",
   "name": "python",
   "nbconvert_exporter": "python",
   "pygments_lexer": "ipython3",
   "version": "3.11.10"
  }
 },
 "nbformat": 4,
 "nbformat_minor": 5
}
